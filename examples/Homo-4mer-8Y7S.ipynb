{
 "cells": [
  {
   "cell_type": "markdown",
   "metadata": {},
   "source": [
    "# Coarse-grain Homo-4mer 8y7s\n",
    "\n",
    "Author: Sikao Guo\n",
    "Modified by: Yue Moon Ying\n",
    "\n",
    "This file includes a tutorial of how to automatically set up a coarse-grained model of a protein complex given a pdb id as an input using `ionerdss`. The model we are using is `8y7s`, which corresponds to benzaldehyde lyase mutant M6 from Herbiconiux sp. SALV-R1. More information about the protein structure is available at [8y7s on RCSB PDB](https://www.rcsb.org/structure/8Y7S).\n",
    "\n",
    "## 0. Import packages\n",
    "\n",
    "The only required package in this example is `ionerdss`. The rest are for analysis and visualization purposes.\n",
    "- `subprocess` is used to invoke PyMOL from within Python to run a .pml script that presumably generates an image.\n",
    "- `os.path.*` is used to correctly expand `~` to the full path of the user's home directory and ensures you get an absolute path, not a relative one, so all file references are unambiguous. This package is called to generate and display the images output by PyMOL, within the given save directory `save_folder`.\n",
    "- `IPython.display` displays images in ipython notebook"
   ]
  },
  {
   "cell_type": "code",
   "execution_count": null,
   "metadata": {},
   "outputs": [],
   "source": [
    "import ionerdss as ion\n",
    "import subprocess # for running pymol\n",
    "from os.path import expanduser, abspath # for expanding `~` in path\n",
    "from IPython.display import display, Image # for image display in ipynb"
   ]
  },
  {
   "cell_type": "markdown",
   "metadata": {},
   "source": [
    "## 1. Set the PDB ID and save directory"
   ]
  },
  {
   "cell_type": "code",
   "execution_count": null,
   "metadata": {},
   "outputs": [],
   "source": [
    "# Your PDB id\n",
    "pdb_id = '8y7s'\n",
    "\n",
    "# Make sure that pdb id is all lower case\n",
    "pdb_id = pdb_id.lower()\n",
    "\n",
    "# Set save directory\n",
    "save_folder = '~/Documents/' + pdb_id + '_dir'"
   ]
  },
  {
   "cell_type": "code",
   "execution_count": null,
   "metadata": {},
   "outputs": [],
   "source": [
    "# (optional) show the thumbnail of the protein structure form RCSB PDB\n",
    "# Get the image file from RCSB and display the image\n",
    "image_url = f\"https://cdn.rcsb.org/images/structures/{pdb_id}_assembly-1.jpeg\"\n",
    "display(Image(url=image_url))"
   ]
  },
  {
   "cell_type": "markdown",
   "metadata": {},
   "source": [
    "## 2. Set up and create a coarse-grained model\n",
    "\n",
    "- Initialize the pdb model given pdb id and save folder\n",
    "- Set up the coarse grain model from pdb model. For all tunable parameters, see [`pdb_model.coarse_grain`](https://ionerdss.readthedocs.io/en/latest/ionerdss.nerdss_model.html#ionerdss.nerdss_model.pdb_model.PDBModel.coarse_grain)\n",
    "- Identify, align, and regularize all molecular chains so that homologous chains share the same relative geometry. For all tunable parameters, see [`pdb_model.regularize_homologous_chains`](https://ionerdss.readthedocs.io/en/latest/ionerdss.nerdss_model.html#ionerdss.nerdss_model.pdb_model.PDBModel.regularize_homologous_chains)"
   ]
  },
  {
   "cell_type": "code",
   "execution_count": null,
   "metadata": {},
   "outputs": [],
   "source": [
    "# initialize the pdb model given pdb id and save folder\n",
    "pdb_model = ion.PDBModel(pdb_id=pdb_id, save_dir=save_folder)\n",
    "\n",
    "# set up the coarse grain model from pdb model,\n",
    "# by detecting binding interfaces between chains based on atomic distances\n",
    "# for all tunable parameters see\n",
    "# https://ionerdss.readthedocs.io/en/latest/ionerdss.nerdss_model.html#ionerdss.nerdss_model.pdb_model.PDBModel.coarse_grain\n",
    "# set standard_output=True to see the determined interfaces\n",
    "pdb_model.coarse_grain(distance_cutoff=0.35, \n",
    "                       residue_cutoff=3,\n",
    "                       show_coarse_grained_structure=False, \n",
    "                       save_pymol_script=False, \n",
    "                       standard_output=True)\n",
    "\n",
    "# identify, align, and regularize all molecular chains so that homologous chains share \n",
    "# the same relative geometry. This method organizes molecule and interface objects \n",
    "# accordingly and sets up reaction objects.\n",
    "# for all tunable parameters see\n",
    "# https://ionerdss.readthedocs.io/en/latest/ionerdss.nerdss_model.html#ionerdss.nerdss_model.pdb_model.PDBModel.regularize_homologous_chains\n",
    "pdb_model.regularize_homologous_chains(dist_threshold_intra=3.5, \n",
    "                                       dist_threshold_inter=3.5, \n",
    "                                       angle_threshold=25.0, \n",
    "                                       show_coarse_grained_structure=False, \n",
    "                                       save_pymol_script=True, \n",
    "                                       standard_output=False)"
   ]
  },
  {
   "cell_type": "markdown",
   "metadata": {},
   "source": [
    "## 3. (Optional) Call PyMOL script to visualize the coarse-grained model\n",
    "\n",
    "- *REQUIRES*: PyMOL\n",
    "- Note: if PyMOL is installed but you are still getting `FileNotFoundError: [Errno 2] No such file or directory: 'pymol'`, this means that Python can't find the `pymol` executable in your system's `PATH` (you can confirm this with `which pymol` in terminal). This problem might come from installing PyMOL through Anaconda (`conda install -c schrodinger pymol`) and then the pymol binary might only be available inside the conda environment.\n",
    "- If you do not want to install it outside the conda environment, you can fix it by using the full path via replacing `\"pymol\"` in `subprocess.run` with the full path (e.g. `/Users/username/miniconda3/envs/myenv/bin/pymol`)"
   ]
  },
  {
   "cell_type": "code",
   "execution_count": null,
   "metadata": {},
   "outputs": [],
   "source": [
    "# Get the absolute save directory path\n",
    "if save_folder.startswith('~'):\n",
    "    abs_save_folder = expanduser(save_folder)\n",
    "abs_save_folder = abspath(abs_save_folder)\n",
    "\n",
    "# Call the PyMOL script to draw the image for the coarse-grained model\n",
    "subprocess.run([\"pymol\", \"-cq\", f\"{abs_save_folder}/visualize_regularized_coarse_grained.pml\"], check=True)\n",
    "\n",
    "# Display the coarse-grained image\n",
    "display(Image(filename=f\"{abs_save_folder}/comparison_regularized.png\"))"
   ]
  }
 ],
 "metadata": {
  "kernelspec": {
   "display_name": "ionerdss",
   "language": "python",
   "name": "python3"
  },
  "language_info": {
   "codemirror_mode": {
    "name": "ipython",
    "version": 3
   },
   "file_extension": ".py",
   "mimetype": "text/x-python",
   "name": "python",
   "nbconvert_exporter": "python",
   "pygments_lexer": "ipython3",
   "version": "3.9.22"
  }
 },
 "nbformat": 4,
 "nbformat_minor": 4
}
