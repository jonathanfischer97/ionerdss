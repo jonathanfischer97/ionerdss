{
 "cells": [
  {
   "cell_type": "markdown",
   "metadata": {
    "id": "w30Vc8OQjdzo"
   },
   "source": [
    "## Welcome to NERDSS on Google Colab!\n",
    "*Author: Yue Moon Ying*\n",
    "\n",
    "Upon running, Google Colab will ask you for access to Google Drive. Once mounted, you can access your Google Drive files under the /content/drive/My Drive directory.\n",
    "\n",
    "Note, currently using Public version of NERDSS\n",
    "Be careful that ioNERDSS and NERDSS will be installed and complied in YOUR google drive which takes around 200 MB of space\n",
    "Remember to reduce the iteration number to accomadate computational power on Google colab\n",
    "Be aware there is some latency between uploading files to Google Drive and sync to Mount"
   ]
  },
  {
   "cell_type": "markdown",
   "metadata": {
    "id": "iVAymL7HisoI"
   },
   "source": [
    "### 1. Mount Google Drive and Download NERDSS"
   ]
  },
  {
   "cell_type": "code",
   "execution_count": null,
   "metadata": {
    "id": "X-jmmN2z4O2u"
   },
   "outputs": [],
   "source": [
    "# Mount Google Drive\n",
    "# Accessing Google Drive from a Google Colab notebook\n",
    "\n",
    "from google.colab import drive\n",
    "drive.mount('/content/drive/')\n",
    "\n",
    "# Navigate to Your Drive Files\n",
    "# Google Colab will ask you for access to Google Drive\n",
    "# Once mounted, you can access your Google Drive files under the /content/drive/My Drive directory.\n",
    "\n",
    "# Change to the desired directory\n",
    "import os\n",
    "os.chdir('/content/drive/My Drive')\n",
    "\n",
    "# Pull NERDSS from Github\n",
    "!git clone https://github.com/mjohn218/NERDSS.git\n",
    "!git fetch https://github.com/mjohn218/NERDSS.git\n",
    "\n",
    "# List files in NERDSS folder\n",
    "os.chdir('/content/drive/My Drive/NERDSS')\n",
    "!ls\n",
    "\n",
    "# Verify current working directory\n",
    "print(os.getcwd())"
   ]
  },
  {
   "cell_type": "code",
   "execution_count": null,
   "metadata": {
    "id": "DmwKmXfc93ky"
   },
   "outputs": [],
   "source": [
    "# Check C++ compiler\n",
    "!g++ --version\n",
    "\n",
    "# Install Dependency: GSL\n",
    "!sudo apt install libgsl-dev -y"
   ]
  },
  {
   "cell_type": "markdown",
   "metadata": {
    "id": "nU6AujVhi7K4"
   },
   "source": [
    "### 2. Compile NERDSS"
   ]
  },
  {
   "cell_type": "code",
   "execution_count": null,
   "metadata": {
    "id": "RhM4zcal-El1"
   },
   "outputs": [],
   "source": [
    "# Compile\n",
    "# Under free Google Colab this takes est. 12 minutes\n",
    "!make serial -j8"
   ]
  },
  {
   "cell_type": "markdown",
   "metadata": {},
   "source": [
    "### 3. Download the ionerdss and install required packages"
   ]
  },
  {
   "cell_type": "code",
   "execution_count": null,
   "metadata": {},
   "outputs": [],
   "source": [
    "os.chdir('/content/drive/My Drive')\n",
    "!git clone https://github.com/JohnsonBiophysicsLab/ionerdss.git\n",
    "!git fetch https://github.com/JohnsonBiophysicsLab/ionerdss.git\n",
    "os.chdir('/content/drive/My Drive/ionerdss')\n",
    "!ls\n",
    "# install all dependencies in requirements.txt\n",
    "%pip install -r requirements.txt"
   ]
  },
  {
   "cell_type": "code",
   "execution_count": null,
   "metadata": {},
   "outputs": [],
   "source": [
    "import sys\n",
    "sys.path.insert(0, os.path.abspath('/content/drive/My Drive/ionerdss'))\n",
    "\n",
    "from ionerdss.model_setup.protein_model import ProteinModel\n",
    "print('ionerdss.model_setup.protein_model imported successfully!')"
   ]
  },
  {
   "cell_type": "markdown",
   "metadata": {},
   "source": [
    "### 4. Prepare the NERDSS input files\n",
    "we will use pdb id 8y7s as an example (it is a homo 4-mer; each monomer will be represented by the same NERDSS molecule template)"
   ]
  },
  {
   "cell_type": "code",
   "execution_count": null,
   "metadata": {},
   "outputs": [],
   "source": [
    "pdb_id = './data/7uhy.cif'\n",
    "model = ProteinModel(pdb_id)\n",
    "print('ProteinModel created!')"
   ]
  },
  {
   "cell_type": "code",
   "execution_count": null,
   "metadata": {},
   "outputs": [],
   "source": [
    "import nglview as nv\n",
    "\n",
    "view = nv.show_file(pdb_id)\n",
    "view"
   ]
  },
  {
   "cell_type": "markdown",
   "metadata": {},
   "source": [
    "We can now detect binding interfaces in the structure.\n",
    "- `cutoff=0.35` is the maximum distance (in nm) for atom contacts.\n",
    "- `residue_cutoff=3` means we need at least 3 contacting residues."
   ]
  },
  {
   "cell_type": "code",
   "execution_count": null,
   "metadata": {},
   "outputs": [],
   "source": [
    "model.verbose = False  # set to True for more outputs information\n",
    "model.detect_interfaces(cutoff=0.35, residue_cutoff=3)\n",
    "print('Interfaces detected!')"
   ]
  },
  {
   "cell_type": "markdown",
   "metadata": {},
   "source": [
    "show each chain’s **Center of Mass** and **Interface** points"
   ]
  },
  {
   "cell_type": "code",
   "execution_count": null,
   "metadata": {},
   "outputs": [],
   "source": [
    "%matplotlib widget\n",
    "\n",
    "model.plot_original_coarse_grained_structure()"
   ]
  },
  {
   "cell_type": "markdown",
   "metadata": {},
   "source": [
    "If the structure has homologous chains, we will regularize them so they share the same geometry.\n",
    "This step also sets up Reaction objects if two chains can bind."
   ]
  },
  {
   "cell_type": "code",
   "execution_count": null,
   "metadata": {},
   "outputs": [],
   "source": [
    "model.regularize_molecules(dist_thresh_intra=3.5, dist_thresh_inter=3.5, angle_thresh=25)\n",
    "\n",
    "print('After regularization:')\n",
    "model.plot_regularized_structure()"
   ]
  },
  {
   "cell_type": "markdown",
   "metadata": {},
   "source": [
    "Generates the NERDSS Input files"
   ]
  },
  {
   "cell_type": "code",
   "execution_count": null,
   "metadata": {},
   "outputs": [],
   "source": [
    "model.generate_nerdss_ready_files()"
   ]
  },
  {
   "cell_type": "markdown",
   "metadata": {},
   "source": [
    "### 5. Run NERDSS simulation"
   ]
  },
  {
   "cell_type": "code",
   "execution_count": null,
   "metadata": {
    "id": "bQ_eiN9uBhNU"
   },
   "outputs": [],
   "source": [
    "!cp /content/drive/My Drive/NERDSS/bin/nerdss /content/drive/My Drive/ionerdss\n",
    "!chmod +x .nerdss\n",
    "!./nerdss -f ./parms.inp"
   ]
  }
 ],
 "metadata": {
  "colab": {
   "provenance": []
  },
  "kernelspec": {
   "display_name": "oi",
   "language": "python",
   "name": "python3"
  },
  "language_info": {
   "codemirror_mode": {
    "name": "ipython",
    "version": 3
   },
   "file_extension": ".py",
   "mimetype": "text/x-python",
   "name": "python",
   "nbconvert_exporter": "python",
   "pygments_lexer": "ipython3",
   "version": "3.12.1"
  }
 },
 "nbformat": 4,
 "nbformat_minor": 1
}
