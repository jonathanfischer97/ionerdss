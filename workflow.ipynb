{
 "cells": [
  {
   "cell_type": "markdown",
   "metadata": {},
   "source": [
    "Hi"
   ]
  },
  {
   "cell_type": "code",
   "execution_count": null,
   "metadata": {},
   "outputs": [],
   "source": [
    "import ionerdss as ion\n",
    "\n",
    "pdb_id = '8y7s'\n",
    "save_folder = '~/Documents/8y7s_dir'\n",
    "\n",
    "pdb_model = ion.PDBModel(pdb_id=pdb_id, save_dir=save_folder)\n",
    "\n",
    "# set standard_output=True to see the determined interfaces\n",
    "pdb_model.coarse_grain(distance_cutoff=0.35, \n",
    "                       residue_cutoff=3,\n",
    "                       show_coarse_grained_structure=False, \n",
    "                       save_pymol_script=False, \n",
    "                       standard_output=False)"
   ]
  },
  {
   "cell_type": "code",
   "execution_count": null,
   "metadata": {},
   "outputs": [],
   "source": [
    "pdb_model.regularize_homologous_chains(dist_threshold_intra=3.5, \n",
    "                                       dist_threshold_inter=3.5, \n",
    "                                       angle_threshold=25.0, \n",
    "                                       show_coarse_grained_structure=False, \n",
    "                                       save_pymol_script=False, \n",
    "                                       standard_output=True)"
   ]
  },
  {
   "cell_type": "code",
   "execution_count": null,
   "metadata": {},
   "outputs": [],
   "source": [
    "simulation = ion.Simulation(pdb_model, save_folder)"
   ]
  },
  {
   "cell_type": "code",
   "execution_count": null,
   "metadata": {},
   "outputs": [],
   "source": [
    "simulation.generate_nerdss_input()"
   ]
  },
  {
   "cell_type": "code",
   "execution_count": null,
   "metadata": {},
   "outputs": [],
   "source": [
    "simulation.modify_mol_file('A', \n",
    "                           {'D': [20.0, 20.0, 20.0], \n",
    "                            'Dr': [0.2, 0.2, 0.2]}) # Example modification\n",
    "\n",
    "simulation.print_mol_parameters('A')"
   ]
  },
  {
   "cell_type": "code",
   "execution_count": null,
   "metadata": {},
   "outputs": [],
   "source": [
    "simulation.modify_inp_file({'nItr': 1000, 'timeStep': 0.5, 'timeWrite': 100, 'trajWrite': 100, 'pdbWrite': 100, 'A': 200, 'A(A1) + A(A1) <-> A(A1!1).A(A1!1)': {'onRate3Dka': 2000}}) # Example modification\n",
    "simulation.print_inp_file()"
   ]
  },
  {
   "cell_type": "code",
   "execution_count": null,
   "metadata": {},
   "outputs": [],
   "source": [
    "simulation.install_nerdss(nerdss_path=\"~/Documents/8y7s_dir\") # this will update the nerdss folder if it already exists"
   ]
  },
  {
   "cell_type": "code",
   "execution_count": null,
   "metadata": {},
   "outputs": [],
   "source": [
    "simulation.run_new_simulations(sim_indices=[1, 2, 3], \n",
    "                              sim_dir=\"~/Documents/8y7s_dir/nerdss_output\", \n",
    "                              nerdss_dir=\"~/Documents/8y7s_dir/NERDSS\", \n",
    "                              parallel=False)"
   ]
  }
 ],
 "metadata": {
  "kernelspec": {
   "display_name": "ionerdss",
   "language": "python",
   "name": "python3"
  },
  "language_info": {
   "codemirror_mode": {
    "name": "ipython",
    "version": 3
   },
   "file_extension": ".py",
   "mimetype": "text/x-python",
   "name": "python",
   "nbconvert_exporter": "python",
   "pygments_lexer": "ipython3",
   "version": "3.9.21"
  }
 },
 "nbformat": 4,
 "nbformat_minor": 4
}
