{
 "cells": [
  {
   "cell_type": "code",
   "execution_count": 1,
   "metadata": {},
   "outputs": [
    {
     "name": "stdout",
     "output_type": "stream",
     "text": [
      "Successfully downloaded assembly file: /Users/sikao/Documents/8y7s_dir/8y7s-assembly1.cif.gz\n"
     ]
    }
   ],
   "source": [
    "import ionerdss as ion\n",
    "\n",
    "pdb_id = '8y7s'\n",
    "save_folder = '~/Documents/8y7s_dir'\n",
    "\n",
    "pdb_model = ion.PDBModel(pdb_id=pdb_id, save_dir=save_folder)\n",
    "\n",
    "# set standard_output=True to see the determined interfaces\n",
    "pdb_model.coarse_grain(distance_cutoff=0.35, \n",
    "                       residue_cutoff=3,\n",
    "                       show_coarse_grained_structure=False, \n",
    "                       save_pymol_script=False, \n",
    "                       standard_output=False)"
   ]
  },
  {
   "cell_type": "code",
   "execution_count": 2,
   "metadata": {},
   "outputs": [
    {
     "name": "stdout",
     "output_type": "stream",
     "text": [
      "Homologous chains identified using sequence alignment:\n",
      "{'A': 'A', 'E': 'A', 'F': 'A', 'B': 'A'}\n",
      "Homologous chain groups identified:\n",
      "[['A', 'B', 'E', 'F']]\n",
      "Molecules Template and Reactions Template After Regularization:\n",
      "Molecule Template: A\n",
      "  Interfaces:\n",
      "  Interface Template: A1\n",
      "  Coordinates: (-7.007961273193359, -14.314596176147461, 13.746955871582031)\n",
      "  Residues: \n",
      "  Required Free: \n",
      "  Interface Template: A2\n",
      "  Coordinates: (10.486747741699219, -2.4482688903808594, -10.367427825927734)\n",
      "  Residues: \n",
      "  Required Free: \n",
      "  Interface Template: A3\n",
      "  Coordinates: (4.929496765136719, -27.769790649414062, -10.32229995727539)\n",
      "  Residues: \n",
      "  Required Free: \n",
      "Reaction Template: A(A1) + A(A1) <-> A(A1!1).A(A1!1)\n",
      "  Reactants: ['A(A1)', 'A(A1)']\n",
      "  Products: ['A(A1!1).A(A1!1)']\n",
      "  Binding Angles: ['2.529762', '2.558960', '0.772892', '0.753389', '0.968292']\n",
      "  Binding Radius: 0.497605 nm\n",
      "  norm1: [0, 0, 1]\n",
      "  norm2: [0, 0, 1]\n",
      "Reaction Template: A(A2) + A(A2) <-> A(A2!1).A(A2!1)\n",
      "  Reactants: ['A(A2)', 'A(A2)']\n",
      "  Products: ['A(A2!1).A(A2!1)']\n",
      "  Binding Angles: ['2.929740', '2.943566', '-3.124681', '3.123725', '1.654870']\n",
      "  Binding Radius: 0.767036 nm\n",
      "  norm1: [0, 0, 1]\n",
      "  norm2: [0, 0, 1]\n",
      "Reaction Template: A(A3) + A(A3) <-> A(A3!1).A(A3!1)\n",
      "  Reactants: ['A(A3)', 'A(A3)']\n",
      "  Products: ['A(A3!1).A(A3!1)']\n",
      "  Binding Angles: ['2.324562', '2.336662', '1.785680', '1.785276', '0.662136']\n",
      "  Binding Radius: 1.143353 nm\n",
      "  norm1: [0, 0, 1]\n",
      "  norm2: [0, 0, 1]\n",
      "Model saved successfully to /Users/sikao/Documents/8y7s_dir/8y7s_model.json\n"
     ]
    }
   ],
   "source": [
    "pdb_model.regularize_homologous_chains(dist_threshold_intra=3.5, \n",
    "                                       dist_threshold_inter=3.5, \n",
    "                                       angle_threshold=25.0, \n",
    "                                       show_coarse_grained_structure=False, \n",
    "                                       save_pymol_script=False, \n",
    "                                       standard_output=True)"
   ]
  },
  {
   "cell_type": "code",
   "execution_count": 3,
   "metadata": {},
   "outputs": [
    {
     "name": "stdout",
     "output_type": "stream",
     "text": [
      "Working directory set to: /Users/sikao/Documents/8y7s_dir\n"
     ]
    }
   ],
   "source": [
    "simulation = ion.Simulation(pdb_model, save_folder)"
   ]
  },
  {
   "cell_type": "code",
   "execution_count": 4,
   "metadata": {},
   "outputs": [
    {
     "name": "stdout",
     "output_type": "stream",
     "text": [
      "Parameters for molecule 'A':\n",
      "Name = A\n",
      "isLipid = false\n",
      "isImplicitLipid = false\n",
      "checkOverlap = false\n",
      "countTransition = false\n",
      "transitionMatrixSize = 500\n",
      "insideCompartment = false\n",
      "outsideCompartment = false\n",
      "mass = 1.0\n",
      "\n",
      "D = [20.0, 20.0, 20.0]\n",
      "\n",
      "Dr = [0.2, 0.2, 0.2]\n",
      "\n",
      "COM\t0.0000\t0.0000\t0.0000\n",
      "A1\t-0.700796\t-1.431460\t1.374696\n",
      "A2\t1.048675\t-0.244827\t-1.036743\n",
      "A3\t0.492950\t-2.776979\t-1.032230\n",
      "\n",
      "bonds = 3\n",
      "com A1\n",
      "com A2\n",
      "com A3\n",
      "\n"
     ]
    }
   ],
   "source": [
    "simulation.modify_mol_file('A', \n",
    "                           {'D': [20.0, 20.0, 20.0], \n",
    "                            'Dr': [0.2, 0.2, 0.2]}) # Example modification\n",
    "\n",
    "simulation.print_mol_parameters('A')"
   ]
  },
  {
   "cell_type": "code",
   "execution_count": 5,
   "metadata": {},
   "outputs": [
    {
     "name": "stdout",
     "output_type": "stream",
     "text": [
      "start parameters\n",
      "\tnItr = 2000000\n",
      "\ttimeStep = 0.2\n",
      "\ttimeWrite = 10000\n",
      "\ttrajWrite = 100000\n",
      "\tpdbWrite = 100000\n",
      "\trestartWrite = 100000\n",
      "\tcheckPoint = 100000\n",
      "\ttransitionWrite = 100000\n",
      "\tclusterOverlapCheck = false\n",
      "\tscaleMaxDisplace = 100.0\n",
      "\toverlapSepLimit = 0.1\n",
      "end parameters\n",
      "\n",
      "start boundaries\n",
      "\tWaterBox = [1000.0, 1000.0, 1000.0]\n",
      "\thasCompartment = false\n",
      "\tcompartmentR = 0\n",
      "\tcompartmentSiteD = 0\n",
      "\tcompartmentSiteRho = 0\n",
      "end boundaries\n",
      "\n",
      "start molecules\n",
      "\tA : 200\n",
      "end molecules\n",
      "\n",
      "start reactions\n",
      "\tA(A1) + A(A1) <-> A(A1!1).A(A1!1)\n",
      "\t\tonRate3Dka = 2000\n",
      "\t\toffRatekb = 0.0\n",
      "\t\tsigma = 0.4976053833961487\n",
      "\t\tnorm1 = [0, 0, 1]\n",
      "\t\tnorm2 = [0, 0, 1]\n",
      "\t\tassocAngles = [2.529762, 2.558960, 0.772892, 0.753389, 0.968292]\n",
      "\t\tlength3Dto2D = 2.0\n",
      "\t\tbindRadSameCom = 1.5\n",
      "\t\tloopCoopFactor = 1.0\n",
      "\t\texcludeVolumeBound = True\n",
      "\n",
      "\tA(A2) + A(A2) <-> A(A2!1).A(A2!1)\n",
      "\t\tonRate3Dka = 1000.0\n",
      "\t\toffRatekb = 0.0\n",
      "\t\tsigma = 0.7670360803604126\n",
      "\t\tnorm1 = [0, 0, 1]\n",
      "\t\tnorm2 = [0, 0, 1]\n",
      "\t\tassocAngles = [2.929740, 2.943566, -3.124681, 3.123725, 1.654870]\n",
      "\t\tlength3Dto2D = 2.0\n",
      "\t\tbindRadSameCom = 1.5\n",
      "\t\tloopCoopFactor = 1.0\n",
      "\t\texcludeVolumeBound = False\n",
      "\n",
      "\tA(A3) + A(A3) <-> A(A3!1).A(A3!1)\n",
      "\t\tonRate3Dka = 1000.0\n",
      "\t\toffRatekb = 0.0\n",
      "\t\tsigma = 1.1433526277542114\n",
      "\t\tnorm1 = [0, 0, 1]\n",
      "\t\tnorm2 = [0, 0, 1]\n",
      "\t\tassocAngles = [2.324562, 2.336662, 1.785680, 1.785276, 0.662136]\n",
      "\t\tlength3Dto2D = 2.0\n",
      "\t\tbindRadSameCom = 1.5\n",
      "\t\tloopCoopFactor = 1.0\n",
      "\t\texcludeVolumeBound = False\n",
      "\n",
      "end reactions\n",
      "\n"
     ]
    }
   ],
   "source": [
    "simulation.modify_inp_file({'nItr': 2000000, 'timeStep': 0.2, 'A': 200, 'A(A1) + A(A1) <-> A(A1!1).A(A1!1)': {'onRate3Dka': 2000, 'excludeVolumeBound': True}}) # Example modification\n",
    "simulation.print_inp_file()"
   ]
  }
 ],
 "metadata": {
  "kernelspec": {
   "display_name": "local_ionerdss",
   "language": "python",
   "name": "python3"
  },
  "language_info": {
   "codemirror_mode": {
    "name": "ipython",
    "version": 3
   },
   "file_extension": ".py",
   "mimetype": "text/x-python",
   "name": "python",
   "nbconvert_exporter": "python",
   "pygments_lexer": "ipython3",
   "version": "3.9.21"
  }
 },
 "nbformat": 4,
 "nbformat_minor": 2
}
