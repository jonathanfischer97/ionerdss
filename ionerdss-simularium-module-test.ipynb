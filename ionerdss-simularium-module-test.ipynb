{
 "cells": [
  {
   "cell_type": "code",
   "execution_count": 1,
   "id": "f8110ba6-999e-41f9-b413-89f0acaede9e",
   "metadata": {},
   "outputs": [],
   "source": [
    "import ionerdss as ion"
   ]
  },
  {
   "cell_type": "code",
   "execution_count": 3,
   "id": "02b6c1bc-b886-410a-8e3f-829047eda225",
   "metadata": {},
   "outputs": [
    {
     "name": "stdout",
     "output_type": "stream",
     "text": [
      "Reading PDB Data -------------\n"
     ]
    },
    {
     "name": "stderr",
     "output_type": "stream",
     "text": [
      "/home/hsohail1/.local/lib/python3.10/site-packages/MDAnalysis/topology/PDBParser.py:350: UserWarning: Element information is missing, elements attribute will not be populated. If needed these can be guessed using universe.guess_TopologyAttrs(context='default', to_guess=['elements']).\n",
      "  warnings.warn(\"Element information is missing, elements attribute \"\n",
      "/home/hsohail1/.local/lib/python3.10/site-packages/MDAnalysis/topology/PDBParser.py:350: UserWarning: Element information is missing, elements attribute will not be populated. If needed these can be guessed using universe.guess_TopologyAttrs(context='default', to_guess=['elements']).\n",
      "  warnings.warn(\"Element information is missing, elements attribute \"\n"
     ]
    },
    {
     "name": "stdout",
     "output_type": "stream",
     "text": [
      "Filtering: translation -------------\n",
      "Converting Trajectory Data to Binary -------------\n",
      "Writing Binary -------------\n",
      "saved to module_test_het3mer_with_LazyLoader.simularium\n"
     ]
    }
   ],
   "source": [
    "input_folder = \"./het3mer\" \n",
    "'''\n",
    "input folder must contain all the .mol files and the .inp file for the NERDSS simulation, in addition to\n",
    "in addition to a subfolder named PDB which constains all the .pdb output files from a NERDSS simulation.\n",
    "This folder is basically the same folder where a NERDSS simulation is run. \n",
    "'''\n",
    "output_name  = \"module_test_het3mer_with_LazyLoader\" #this names the output .simularium file. The file is placed in the current working directory.\n",
    "\n",
    "ion.convert_simularium(input_folder, output_name) #calls the function and does the conversion."
   ]
  },
  {
   "cell_type": "code",
   "execution_count": 2,
   "id": "bf0aa6a0-58fa-4124-ac56-48f86395b1d8",
   "metadata": {},
   "outputs": [
    {
     "data": {
      "text/plain": [
       "<ionerdss.LazyLoader at 0x7e1fcc117400>"
      ]
     },
     "execution_count": 2,
     "metadata": {},
     "output_type": "execute_result"
    }
   ],
   "source": [
    "ion.convert_simularium"
   ]
  },
  {
   "cell_type": "code",
   "execution_count": null,
   "id": "f4712510-32d7-4e79-8e11-c781f17c77ae",
   "metadata": {},
   "outputs": [],
   "source": []
  }
 ],
 "metadata": {
  "kernelspec": {
   "display_name": "Python 3 (ipykernel)",
   "language": "python",
   "name": "python3"
  },
  "language_info": {
   "codemirror_mode": {
    "name": "ipython",
    "version": 3
   },
   "file_extension": ".py",
   "mimetype": "text/x-python",
   "name": "python",
   "nbconvert_exporter": "python",
   "pygments_lexer": "ipython3",
   "version": "3.10.12"
  }
 },
 "nbformat": 4,
 "nbformat_minor": 5
}
